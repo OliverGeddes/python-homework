{
 "cells": [
  {
   "cell_type": "code",
   "execution_count": 311,
   "metadata": {},
   "outputs": [],
   "source": [
    "from pathlib import Path\n",
    "import csv\n",
    "\n",
    "csvpath = Path('./budget_data.csv')\n",
    "outputpath = Path('./financial_analysis.txt')\n",
    "\n",
    "profitloss = []\n",
    "dates = []\n",
    "revenue_change_list = []\n",
    "month_of_change = []\n",
    "\n",
    "total_pl = 0\n",
    "count = 0\n",
    "previousRevenue = 0\n",
    "revenue_change = 0\n",
    "sumofchanges = 0\n",
    "average_change = 0\n",
    "greatestIncrease = 0\n",
    "greatestDecrease = 0\n",
    "greatestIncrease_date = \"\"\n",
    "greatestDecrease_date = \"\"\n",
    "\n",
    "with open(csvpath, 'r') as csvfile:\n",
    "    csvreader = csv.reader(csvfile, delimiter=',') \n",
    "    header = next(csvreader)\n",
    "    line_num += 1\n",
    "    \n",
    "    for row in csvreader:\n",
    "        \n",
    "        values = int(row[1])\n",
    "        profitloss.append(values)\n",
    "\n",
    "        date = str(row[0])\n",
    "        dates.append(date)\n",
    "        \n",
    "        revenue_change = int(row[1]) - previousRevenue\n",
    "        previousRevenue = int(row[1])\n",
    "        revenue_change_list.append(revenue_change)\n",
    "        month_of_change = month_of_change + [row[0]]\n",
    "\n",
    "for amounts in profitloss:\n",
    "    total_pl += amounts  \n",
    "    \n",
    "for months in dates:\n",
    "    count += 1\n",
    "\n",
    "revenue_change_list.pop(0)\n",
    "\n",
    "for changes in revenue_change_list:\n",
    "    sumofchanges += changes  \n",
    "    average_change = sumofchanges/count\n",
    "    \n",
    "    if changes < greatestDecrease:\n",
    "        greatestDecrease = changes\n",
    "        indexdec = revenue_change_list.index(greatestDecrease) + 1\n",
    "        greatestDecrease_date = month_of_change[indexdec]\n",
    "        \n",
    "    elif changes > greatestIncrease:    \n",
    "        greatestIncrease = changes\n",
    "        indexinc = revenue_change_list.index(greatestIncrease) + 1\n",
    "        greatestIncrease_date = month_of_change[indexinc]\n",
    "    \n",
    "\n",
    "output = (\n",
    "    f\"Financial Analysis\\n\"\n",
    "    f\"-------------------------------------------\\n\"\n",
    "    f\"Total Months: {count}\\n\"\n",
    "    f\"Total Revenue: {total_pl}\\n\"\n",
    "    f\"Average Revenue Change: ${average_change}\\n\"\n",
    "    f\"Greatest increase in Revenue: {greatestIncrease_date}, ${greatestIncrease}\\n\"\n",
    "    f\"Greatest decrease in Revenue: {greatestDecrease_date}, ${greatestDecrease}\\n\"\n",
    ")\n",
    "\n",
    "with open(outputpath, 'w') as txt_file:\n",
    "    txt_file.write(output)\n"
   ]
  },
  {
   "cell_type": "code",
   "execution_count": 267,
   "metadata": {},
   "outputs": [
    {
     "name": "stdout",
     "output_type": "stream",
     "text": [
      "\n"
     ]
    }
   ],
   "source": []
  },
  {
   "cell_type": "code",
   "execution_count": null,
   "metadata": {},
   "outputs": [],
   "source": []
  },
  {
   "cell_type": "code",
   "execution_count": null,
   "metadata": {},
   "outputs": [],
   "source": []
  }
 ],
 "metadata": {
  "kernelspec": {
   "display_name": "Python 3",
   "language": "python",
   "name": "python3"
  },
  "language_info": {
   "codemirror_mode": {
    "name": "ipython",
    "version": 3
   },
   "file_extension": ".py",
   "mimetype": "text/x-python",
   "name": "python",
   "nbconvert_exporter": "python",
   "pygments_lexer": "ipython3",
   "version": "3.8.5"
  }
 },
 "nbformat": 4,
 "nbformat_minor": 4
}
