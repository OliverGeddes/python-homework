{
 "cells": [
  {
   "cell_type": "code",
   "execution_count": 40,
   "metadata": {},
   "outputs": [],
   "source": [
    "import csv\n",
    "from pathlib import Path\n",
    "\n",
    "line_num = 0\n",
    "line_num1 = 0\n",
    "\n",
    "menu_data_path = Path(\"./menu_data.csv\")\n",
    "sales_data_path = Path(\"./sales_data.csv\")\n",
    "\n",
    "menu_list = []\n",
    "sales_list = []\n",
    "\n",
    "report = {\n",
    "\"01-count\": 0,\n",
    "\"02-revenue\": 0,\n",
    "\"03-cogs\": 0,\n",
    "\"04-profit\": 0,\n",
    "}\n",
    "\n",
    "with open(menu_data_path, 'r') as menu_data:\n",
    "    menureader = csv.reader(menu_data, delimiter=',') \n",
    "    header = next(menureader)\n",
    "    line_num += 1\n",
    "    \n",
    "    for rows in menureader:\n",
    "        item = rows \n",
    "        menu_list.append(item)\n",
    "\n",
    "with open(sales_data_path, 'r') as sales_data:\n",
    "    salesreader = csv.reader(sales_data, delimiter=',') \n",
    "    header = next(salesreader)\n",
    "    line_num1 += 1\n",
    "    \n",
    "    for rows in salesreader:\n",
    "        sales = rows \n",
    "        sales_list.append(sales)\n",
    "\n",
    "    "
   ]
  },
  {
   "cell_type": "code",
   "execution_count": null,
   "metadata": {},
   "outputs": [],
   "source": []
  },
  {
   "cell_type": "code",
   "execution_count": null,
   "metadata": {},
   "outputs": [],
   "source": []
  }
 ],
 "metadata": {
  "kernelspec": {
   "display_name": "Python 3",
   "language": "python",
   "name": "python3"
  },
  "language_info": {
   "codemirror_mode": {
    "name": "ipython",
    "version": 3
   },
   "file_extension": ".py",
   "mimetype": "text/x-python",
   "name": "python",
   "nbconvert_exporter": "python",
   "pygments_lexer": "ipython3",
   "version": "3.8.5"
  }
 },
 "nbformat": 4,
 "nbformat_minor": 4
}
